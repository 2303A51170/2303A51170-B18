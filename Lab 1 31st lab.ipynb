{
  "nbformat": 4,
  "nbformat_minor": 0,
  "metadata": {
    "colab": {
      "provenance": [],
      "authorship_tag": "ABX9TyMPrSqatJEXEOXEf6b8i0kT",
      "include_colab_link": true
    },
    "kernelspec": {
      "name": "python3",
      "display_name": "Python 3"
    },
    "language_info": {
      "name": "python"
    }
  },
  "cells": [
    {
      "cell_type": "markdown",
      "metadata": {
        "id": "view-in-github",
        "colab_type": "text"
      },
      "source": [
        "<a href=\"https://colab.research.google.com/github/2303A51170/2303A51170-B18/blob/main/Lab%201%2031st%20lab.ipynb\" target=\"_parent\"><img src=\"https://colab.research.google.com/assets/colab-badge.svg\" alt=\"Open In Colab\"/></a>"
      ]
    },
    {
      "cell_type": "code",
      "source": [
        "def factorial(n):\n",
        "  if n == 0 or n == 1:\n",
        "    return 1\n",
        "  else:\n",
        "    return n *factorial(n-1)\n",
        "number = int(input(\"Enter a number:\"))\n",
        "if number<0:\n",
        "   print(\"Factorial is not defined for negative numbers.\")\n",
        "else:\n",
        "    result=factorial(number)\n",
        "    print(f\"The factorial of {number} is {result}\")"
      ],
      "metadata": {
        "colab": {
          "base_uri": "https://localhost:8080/"
        },
        "id": "nuxrcv6xWNRH",
        "outputId": "fcc01399-8253-4520-d323-ad36c181bd02"
      },
      "execution_count": 10,
      "outputs": [
        {
          "output_type": "stream",
          "name": "stdout",
          "text": [
            "Enter a number:4\n",
            "The factorial of 4 is 24\n"
          ]
        }
      ]
    },
    {
      "cell_type": "code",
      "source": [
        "def factorial(n):\n",
        "  if n == 0 or n == 1:\n",
        "    return 1\n",
        "  else:\n",
        "    return n *factorial(n-1)\n",
        "def nCr(n, r):\n",
        "  return factorial(n) // (factorial(r) * factorial(n - r))\n",
        "n=int(input(\"Enter n\"))\n",
        "r=int(input(\"Enter r\"))\n",
        "if n >= r >=0:\n",
        "  print(f\"{n}c{r} ={nCr(n, r)}\")\n",
        "else:\n",
        "  print(\"invaild input\")"
      ],
      "metadata": {
        "colab": {
          "base_uri": "https://localhost:8080/"
        },
        "id": "aVDodf2ec7FT",
        "outputId": "a79a718a-7abf-482a-bfe8-1985ece80f0b"
      },
      "execution_count": 13,
      "outputs": [
        {
          "output_type": "stream",
          "name": "stdout",
          "text": [
            "Enter n4\n",
            "Enter r2\n",
            "4c2 =6\n"
          ]
        }
      ]
    },
    {
      "cell_type": "code",
      "source": [],
      "metadata": {
        "id": "rR8VDfLdepc5"
      },
      "execution_count": null,
      "outputs": []
    }
  ]
}